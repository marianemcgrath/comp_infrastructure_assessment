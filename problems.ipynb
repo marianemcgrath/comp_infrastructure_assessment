{
 "cells": [
  {
   "cell_type": "markdown",
   "id": "a41c98c7",
   "metadata": {},
   "source": [
    "Problem 1: Data from yfinance\n",
    "## YFINANCE\n",
    "Using the yfinance Python package, write a function called get_data() that downloads all hourly data for the previous five days for the five FAANG stocks:\n",
    "• Facebook (META)\n",
    "• Apple (AAPL)\n",
    "• Amazon (AMZN)\n",
    "• Netflix (NFLX)\n",
    "• Google (GOOG)\n",
    "\n",
    "The function should save the data into a folder called data in the root of your repository using a filename with the format YYYYMMDD-HHmmss.csv where YYYYMMDD is the four-digit year (e.g. 2025), followed by the two-digit month (e.g. 09 for September), followed by the two-digit day, and HHmmss is hour, minutes, seconds. Create the data folder if you don't already have one.\n"
   ]
  },
  {
   "cell_type": "markdown",
   "id": "47a929d6",
   "metadata": {},
   "source": [
    "https://github.com/ranaroussi/yfinance"
   ]
  },
  {
   "cell_type": "code",
   "execution_count": null,
   "id": "bb735def",
   "metadata": {},
   "outputs": [],
   "source": [
    "# Yahoo Finance Data\n",
    "import yfinance as yf"
   ]
  },
  {
   "cell_type": "code",
   "execution_count": null,
   "id": "36c51927",
   "metadata": {},
   "outputs": [],
   "source": []
  },
  {
   "cell_type": "markdown",
   "id": "cd2685dc",
   "metadata": {},
   "source": [
    "## End"
   ]
  },
  {
   "cell_type": "markdown",
   "id": "da96374a",
   "metadata": {},
   "source": [
    "Problem 2: Plotting Data\n",
    "Write a function called plot_data() that opens the latest data file in the data folder and, on one plot, plots the Close prices for each of the five stocks. The plot should include axis labels, a legend, and the date as a title. The function should save the plot into a plots folder in the root of your repository using a filename in the format YYYYMMDD-HHmmss.png. Create the plots folder if you don't already have one."
   ]
  },
  {
   "cell_type": "markdown",
   "id": "18370b47",
   "metadata": {},
   "source": [
    "Problem 3: Script\n",
    "Create a Python script called faang.py in the root of your repository. Copy the above functions into it and it so that whenever someone at the terminal types ./faang.py, the script runs, downloading the data and creating the plot. Note that this will require a shebang line and the script to be marked executable. Explain the steps you took in your notebook."
   ]
  },
  {
   "cell_type": "markdown",
   "id": "0cd138c0",
   "metadata": {},
   "source": [
    "Problem 4: Automation\n",
    "Create a GitHub Actions workflow to run your script every Saturday morning. The script should be called faang.yml in a .github/workflows/ folder in the root of your repository. In your notebook, explain each of the individual lines in your workflow."
   ]
  }
 ],
 "metadata": {
  "kernelspec": {
   "display_name": "Python 3",
   "language": "python",
   "name": "python3"
  },
  "language_info": {
   "codemirror_mode": {
    "name": "ipython",
    "version": 3
   },
   "file_extension": ".py",
   "mimetype": "text/x-python",
   "name": "python",
   "nbconvert_exporter": "python",
   "pygments_lexer": "ipython3",
   "version": "3.12.1"
  }
 },
 "nbformat": 4,
 "nbformat_minor": 5
}
